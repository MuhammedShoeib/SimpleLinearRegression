{
 "cells": [
  {
   "cell_type": "code",
   "execution_count": 1,
   "id": "52aa8ed6",
   "metadata": {},
   "outputs": [],
   "source": [
    "# Libraries we need \n",
    "import numpy as np\n",
    "import pandas as pd\n",
    "import matplotlib.pyplot as plt\n",
    "\n",
    "import math, copy\n",
    "np.set_printoptions(precision=2)"
   ]
  },
  {
   "cell_type": "markdown",
   "id": "d2afc270",
   "metadata": {},
   "source": [
    "## Training Data"
   ]
  },
  {
   "cell_type": "code",
   "execution_count": 2,
   "id": "951dd06d",
   "metadata": {},
   "outputs": [],
   "source": [
    "df = pd.read_csv('SimpleTrainingData.csv')"
   ]
  },
  {
   "cell_type": "code",
   "execution_count": 3,
   "id": "10138ddb",
   "metadata": {},
   "outputs": [
    {
     "data": {
      "text/html": [
       "<div>\n",
       "<style scoped>\n",
       "    .dataframe tbody tr th:only-of-type {\n",
       "        vertical-align: middle;\n",
       "    }\n",
       "\n",
       "    .dataframe tbody tr th {\n",
       "        vertical-align: top;\n",
       "    }\n",
       "\n",
       "    .dataframe thead th {\n",
       "        text-align: right;\n",
       "    }\n",
       "</style>\n",
       "<table border=\"1\" class=\"dataframe\">\n",
       "  <thead>\n",
       "    <tr style=\"text-align: right;\">\n",
       "      <th></th>\n",
       "      <th>Feature</th>\n",
       "      <th>target</th>\n",
       "    </tr>\n",
       "  </thead>\n",
       "  <tbody>\n",
       "    <tr>\n",
       "      <th>0</th>\n",
       "      <td>6.1101</td>\n",
       "      <td>17.59200</td>\n",
       "    </tr>\n",
       "    <tr>\n",
       "      <th>1</th>\n",
       "      <td>5.5277</td>\n",
       "      <td>9.13020</td>\n",
       "    </tr>\n",
       "    <tr>\n",
       "      <th>2</th>\n",
       "      <td>8.5186</td>\n",
       "      <td>13.66200</td>\n",
       "    </tr>\n",
       "    <tr>\n",
       "      <th>3</th>\n",
       "      <td>7.0032</td>\n",
       "      <td>11.85400</td>\n",
       "    </tr>\n",
       "    <tr>\n",
       "      <th>4</th>\n",
       "      <td>5.8598</td>\n",
       "      <td>6.82330</td>\n",
       "    </tr>\n",
       "    <tr>\n",
       "      <th>...</th>\n",
       "      <td>...</td>\n",
       "      <td>...</td>\n",
       "    </tr>\n",
       "    <tr>\n",
       "      <th>92</th>\n",
       "      <td>5.8707</td>\n",
       "      <td>7.20290</td>\n",
       "    </tr>\n",
       "    <tr>\n",
       "      <th>93</th>\n",
       "      <td>5.3054</td>\n",
       "      <td>1.98690</td>\n",
       "    </tr>\n",
       "    <tr>\n",
       "      <th>94</th>\n",
       "      <td>8.2934</td>\n",
       "      <td>0.14454</td>\n",
       "    </tr>\n",
       "    <tr>\n",
       "      <th>95</th>\n",
       "      <td>13.3940</td>\n",
       "      <td>9.05510</td>\n",
       "    </tr>\n",
       "    <tr>\n",
       "      <th>96</th>\n",
       "      <td>5.4369</td>\n",
       "      <td>0.61705</td>\n",
       "    </tr>\n",
       "  </tbody>\n",
       "</table>\n",
       "<p>97 rows × 2 columns</p>\n",
       "</div>"
      ],
      "text/plain": [
       "    Feature    target\n",
       "0    6.1101  17.59200\n",
       "1    5.5277   9.13020\n",
       "2    8.5186  13.66200\n",
       "3    7.0032  11.85400\n",
       "4    5.8598   6.82330\n",
       "..      ...       ...\n",
       "92   5.8707   7.20290\n",
       "93   5.3054   1.98690\n",
       "94   8.2934   0.14454\n",
       "95  13.3940   9.05510\n",
       "96   5.4369   0.61705\n",
       "\n",
       "[97 rows x 2 columns]"
      ]
     },
     "execution_count": 3,
     "metadata": {},
     "output_type": "execute_result"
    }
   ],
   "source": [
    "df"
   ]
  },
  {
   "cell_type": "code",
   "execution_count": 4,
   "id": "a23b707d",
   "metadata": {},
   "outputs": [],
   "source": [
    "x_train = df['Feature'].to_numpy()\n",
    "y_train = df['target'].to_numpy()"
   ]
  },
  {
   "cell_type": "code",
   "execution_count": 5,
   "id": "3b0481b7",
   "metadata": {},
   "outputs": [
    {
     "name": "stdout",
     "output_type": "stream",
     "text": [
      "The Features & Targets\n",
      "\n",
      "Features = [ 6.11  5.53  8.52  7.    5.86  8.38  7.48  8.58  6.49  5.05  5.71 14.16\n",
      "  5.73  8.41  5.64  5.38  6.37  5.13  6.43  7.07  6.19 20.27  5.49  6.33\n",
      "  5.56 18.95 12.83 10.96 13.18 22.2   5.25  6.59  9.25  5.89  8.21  7.93\n",
      "  8.1   5.61 12.84  6.35  5.41  6.88 11.71  5.77  7.82  7.09  5.07  5.8\n",
      " 11.7   5.54  7.54  5.31  7.42  7.6   6.33  6.36  6.27  5.64  9.31  9.45\n",
      "  8.83  5.18 21.28 14.91 18.96  7.22  8.3  10.24  5.5  20.34 10.14  7.33\n",
      "  6.01  7.23  5.03  6.55  7.54  5.04 10.27  5.11  5.73  5.19  6.36  9.77\n",
      "  6.52  8.52  9.18  6.    5.52  5.06  5.71  7.64  5.87  5.31  8.29 13.39\n",
      "  5.44]\n",
      "\n",
      "Targets = [17.59  9.13 13.66 11.85  6.82 11.89  4.35 12.    6.6   3.82  3.25 15.51\n",
      "  3.16  7.23  0.72  3.51  5.3   0.56  3.65  5.39  3.14 21.77  4.26  5.19\n",
      "  3.08 22.64 13.5   7.05 14.69 24.15 -1.22  6.   12.13  1.85  6.54  4.56\n",
      "  4.12  3.39 10.12  5.5   0.56  3.91  5.39  2.44  6.73  1.05  5.13  1.84\n",
      "  8.    1.02  6.75  1.84  4.29  5.    1.42 -1.42  2.48  4.6   3.96  5.41\n",
      "  5.17 -0.74 17.93 12.05 17.05  4.89  5.74  7.78  1.02 20.99  6.68  4.03\n",
      "  1.28  3.34 -2.68  0.3   3.88  5.7   6.75  2.06  0.48  0.2   0.68  7.54\n",
      "  5.34  4.24  6.8   0.93  0.15  2.82  1.85  4.3   7.2   1.99  0.14  9.06\n",
      "  0.62]\n"
     ]
    }
   ],
   "source": [
    "print(\"The Features & Targets\\n\")\n",
    "print(f\"Features = {x_train}\\n\")\n",
    "print(f\"Targets = {y_train}\")"
   ]
  },
  {
   "cell_type": "code",
   "execution_count": 6,
   "id": "a4714c21",
   "metadata": {},
   "outputs": [
    {
     "name": "stdout",
     "output_type": "stream",
     "text": [
      "The number of training data is 97\n"
     ]
    }
   ],
   "source": [
    "print(f\"The number of training data is {len(x_train)}\")"
   ]
  },
  {
   "cell_type": "code",
   "execution_count": 7,
   "id": "3315bff2",
   "metadata": {},
   "outputs": [
    {
     "data": {
      "text/plain": [
       "True"
      ]
     },
     "execution_count": 7,
     "metadata": {},
     "output_type": "execute_result"
    }
   ],
   "source": [
    "# Check number of Features equal Targets\n",
    "x_train.shape[0] == len(y_train)"
   ]
  },
  {
   "cell_type": "markdown",
   "id": "f27203e3",
   "metadata": {},
   "source": [
    "## Visualize Data"
   ]
  },
  {
   "cell_type": "code",
   "execution_count": 8,
   "id": "76632569",
   "metadata": {},
   "outputs": [
    {
     "data": {
      "image/png": "[encoded data removed]",
      "text/plain": [
       "<Figure size 432x288 with 1 Axes>"
      ]
     },
     "metadata": {
      "needs_background": "light"
     },
     "output_type": "display_data"
    }
   ],
   "source": [
    "plt.plot(x_train, y_train, 'xr', label='Training Data')\n",
    "plt.xlabel('Size in 1000 sqft')\n",
    "plt.ylabel('Price in 1000$ dollar')\n",
    "plt.title('Housing Prices')\n",
    "\n",
    "plt.legend()\n",
    "plt.grid()\n",
    "plt.show()"
   ]
  },
  {
   "cell_type": "markdown",
   "id": "12d85bb2",
   "metadata": {},
   "source": [
    "## Model\n",
    "$$ f_{w,b}(x^{(i)}) = wx^{(i)} + b $$"
   ]
  },
  {
   "cell_type": "code",
   "execution_count": 9,
   "id": "79f7eaf1",
   "metadata": {},
   "outputs": [],
   "source": [
    "def compute_model(x, w, b):\n",
    "    \n",
    "    return w*x + b"
   ]
  },
  {
   "cell_type": "markdown",
   "id": "5c472860",
   "metadata": {},
   "source": [
    "## Cost Function (MSE)\n",
    "  $$J(w,b) = \\frac{1}{m} \\sum\\limits_{i = 0}^{m-1} (f_{w,b}(x^{(i)}) - y^{(i)})^2 $$ "
   ]
  },
  {
   "cell_type": "code",
   "execution_count": 10,
   "id": "13dc5588",
   "metadata": {},
   "outputs": [],
   "source": [
    "def compute_cost(x, y, w, b):\n",
    "    \n",
    "    m = x.shape[0]\n",
    "    \n",
    "    cost = sum((w*x + b - y)**2)\n",
    "    cost /= m\n",
    "    \n",
    "    return cost"
   ]
  },
  {
   "cell_type": "markdown",
   "id": "128fdec0",
   "metadata": {},
   "source": [
    "## Gradient Descent"
   ]
  },
  {
   "cell_type": "markdown",
   "id": "b48753e4",
   "metadata": {},
   "source": [
    "$$\\begin{align*} \\text{repeat}&\\text{ until convergence:} \\; \\lbrace \\newline\n",
    "\\;  w &= w -  \\alpha \\frac{\\partial J(w,b)}{\\partial w}  \\; \\newline \n",
    " b &= b -  \\alpha \\frac{\\partial J(w,b)}{\\partial b}  \\newline \\rbrace\n",
    "\\end{align*}$$\n",
    "where, parameters $w$, $b$ are updated simultaneously.  \n",
    "The gradient is defined as:\n",
    "$$\n",
    "\\begin{align}\n",
    "\\frac{\\partial J(w,b)}{\\partial w}  &= \\frac{2}{m} \\sum\\limits_{i = 0}^{m-1} (f_{w,b}(x^{(i)}) - y^{(i)})x^{(i)} \\\\\n",
    "  \\frac{\\partial J(w,b)}{\\partial b}  &= \\frac{2}{m} \\sum\\limits_{i = 0}^{m-1} (f_{w,b}(x^{(i)}) - y^{(i)}) \\\\\n",
    "\\end{align}\n",
    "$$\n",
    "\n",
    "Here *simultaniously* means that you calculate the partial derivatives for all the parameters before updating any of the parameters."
   ]
  },
  {
   "cell_type": "code",
   "execution_count": 11,
   "id": "20ed82f6",
   "metadata": {},
   "outputs": [],
   "source": [
    "def compute_partial_derivative(x, y, w, b):\n",
    "    \n",
    "    m = len(x)\n",
    "    \n",
    "    dj_dw = (2/m) * sum((w*x + b - y) * x)\n",
    "    dj_db = (2/m) * sum(w*x + b - y)\n",
    "    \n",
    "    return dj_dw, dj_db"
   ]
  },
  {
   "cell_type": "code",
   "execution_count": 12,
   "id": "e2f7499c",
   "metadata": {},
   "outputs": [],
   "source": [
    "def gradient_descent(x, y, w_in, b_in, alpha, num_iters, cost, partial, model):\n",
    "    \n",
    "    m = len(x)\n",
    "    \n",
    "    w, b = w_in, b_in\n",
    "    J_history, p_history = [], []\n",
    "    \n",
    "    for i in range(num_iters):\n",
    "        dj_dw, dj_db = partial(x, y, w, b)\n",
    "        \n",
    "        w -= alpha * dj_dw\n",
    "        b -= alpha * dj_db\n",
    "        \n",
    "        if i<100000:      \n",
    "            J_history.append(cost(x, y, w , b))\n",
    "            p_history.append([w,b])\n",
    "            \n",
    "        if i % (num_iters//10) == 0:   # every (num_iters//10)\n",
    "            print(f\"Iteration {i:4}: Cost {J_history[-1]:0.2e} \",\n",
    "                  f\"dj_dw: {dj_dw: 0.3e}, dj_db: {dj_db: 0.3e}  \",\n",
    "                  f\"w: {w: 0.3e}, b:{b: 0.5e}\")\n",
    "    print(\"\")\n",
    "    \n",
    "    print(f\"(w,b) found by gradient descent: ({w:8.4f},{b:8.4f})\")\n",
    "    print(f\"Cost function: {J_history[-1]}\")\n",
    "    \n",
    "    return w, b, J_history, p_history"
   ]
  },
  {
   "cell_type": "code",
   "execution_count": 13,
   "id": "5e739202",
   "metadata": {
    "scrolled": true
   },
   "outputs": [
    {
     "name": "stdout",
     "output_type": "stream",
     "text": [
      "Iteration    0: Cost 2.53e+01  dj_dw: -1.307e+02, dj_db: -1.168e+01   w:  3.920e-01, b: 3.50348e-02\n",
      "Iteration 1000: Cost 9.28e+00  dj_dw: -4.879e-02, dj_db:  4.857e-01   w:  1.058e+00, b:-2.55006e+00\n",
      "Iteration 2000: Cost 8.99e+00  dj_dw: -1.653e-02, dj_db:  1.646e-01   w:  1.147e+00, b:-3.43976e+00\n",
      "Iteration 3000: Cost 8.96e+00  dj_dw: -5.603e-03, dj_db:  5.577e-02   w:  1.178e+00, b:-3.74125e+00\n",
      "Iteration 4000: Cost 8.95e+00  dj_dw: -1.899e-03, dj_db:  1.890e-02   w:  1.188e+00, b:-3.84341e+00\n",
      "Iteration 5000: Cost 8.95e+00  dj_dw: -6.434e-04, dj_db:  6.404e-03   w:  1.191e+00, b:-3.87804e+00\n",
      "Iteration 6000: Cost 8.95e+00  dj_dw: -2.180e-04, dj_db:  2.170e-03   w:  1.192e+00, b:-3.88977e+00\n",
      "Iteration 7000: Cost 8.95e+00  dj_dw: -7.388e-05, dj_db:  7.354e-04   w:  1.193e+00, b:-3.89374e+00\n",
      "Iteration 8000: Cost 8.95e+00  dj_dw: -2.504e-05, dj_db:  2.492e-04   w:  1.193e+00, b:-3.89509e+00\n",
      "Iteration 9000: Cost 8.95e+00  dj_dw: -8.484e-06, dj_db:  8.445e-05   w:  1.193e+00, b:-3.89555e+00\n",
      "\n",
      "(w,b) found by gradient descent: (  1.1930, -3.8957)\n",
      "Cost function: 8.95394275309764\n"
     ]
    }
   ],
   "source": [
    "w_init = 0\n",
    "b_init = 0\n",
    "\n",
    "iterations = 10000\n",
    "tmp_alpha = 0.003\n",
    "\n",
    "# run gradient descent\n",
    "w_final, b_final, J_hist, p_hist = gradient_descent(x_train ,y_train, w_init, b_init, tmp_alpha, \n",
    "                                                    iterations, compute_cost, compute_partial_derivative, compute_model)"
   ]
  },
  {
   "cell_type": "code",
   "execution_count": 14,
   "id": "953f70cd",
   "metadata": {
    "scrolled": true
   },
   "outputs": [
    {
     "data": {
      "image/png": "[encoded data removed]",
      "text/plain": [
       "<Figure size 864x288 with 2 Axes>"
      ]
     },
     "metadata": {
      "needs_background": "light"
     },
     "output_type": "display_data"
    }
   ],
   "source": [
    "# plot cost versus iteration  \n",
    "fig, (ax1, ax2) = plt.subplots(1, 2, constrained_layout=True, figsize=(12,4))\n",
    "\n",
    "ax1.plot(J_hist[:10])\n",
    "ax2.plot(10 + np.arange(len(J_hist[10:])), J_hist[10:])\n",
    "\n",
    "ax1.set_title(\"Cost vs. iteration(start)\");  ax2.set_title(\"Cost vs. iteration (end)\")\n",
    "ax1.set_ylabel('Cost')            ;  ax2.set_ylabel('Cost') \n",
    "ax1.set_xlabel('iteration step')  ;  ax2.set_xlabel('iteration step') \n",
    "\n",
    "plt.show()"
   ]
  },
  {
   "cell_type": "code",
   "execution_count": 15,
   "id": "484169a3",
   "metadata": {},
   "outputs": [
    {
     "data": {
      "image/png": "[encoded data removed]",
      "text/plain": [
       "<Figure size 432x288 with 1 Axes>"
      ]
     },
     "metadata": {
      "needs_background": "light"
     },
     "output_type": "display_data"
    }
   ],
   "source": [
    "plt.plot(x_train, y_train, 'xr', label='Training Data')\n",
    "plt.plot(x_train, compute_model(x_train, w_final, b_final), 'b', label='Model')\n",
    "\n",
    "plt.xlabel('Size in 1000 sqft')\n",
    "plt.ylabel('Price in 1000$ dollar')\n",
    "plt.title('Housing Prices')\n",
    "\n",
    "plt.legend()\n",
    "plt.grid()\n",
    "plt.show()"
   ]
  },
  {
   "cell_type": "markdown",
   "id": "8f6e3382",
   "metadata": {},
   "source": [
    "### Some Predictions"
   ]
  },
  {
   "cell_type": "code",
   "execution_count": 16,
   "id": "e4ca4984",
   "metadata": {},
   "outputs": [
    {
     "name": "stdout",
     "output_type": "stream",
     "text": [
      "prediction: 3.39, target value: 17.592\n",
      "prediction: 2.70, target value: 9.1302\n",
      "prediction: 6.27, target value: 13.662\n",
      "prediction: 4.46, target value: 11.854\n",
      "prediction: 3.10, target value: 6.8233\n",
      "prediction: 6.11, target value: 11.886\n",
      "prediction: 5.02, target value: 4.3483\n",
      "prediction: 6.34, target value: 12.0\n",
      "prediction: 3.84, target value: 6.5987\n",
      "prediction: 2.13, target value: 3.8166\n"
     ]
    }
   ],
   "source": [
    "m = len(x_train)\n",
    "for i in range(10):\n",
    "    print(f\"prediction: {compute_model(x_train, w_final, b_final)[i]:0.2f}, target value: {y_train[i]}\")"
   ]
  },
  {
   "cell_type": "code",
   "execution_count": null,
   "id": "5519813c",
   "metadata": {},
   "outputs": [],
   "source": []
  },
  {
   "cell_type": "markdown",
   "id": "268c85a0",
   "metadata": {},
   "source": [
    "## Using Scikit-Learn library"
   ]
  },
  {
   "cell_type": "code",
   "execution_count": 17,
   "id": "db23d76e",
   "metadata": {},
   "outputs": [],
   "source": [
    "# Import libraries\n",
    "from sklearn.linear_model import LinearRegression\n",
    "from sklearn.metrics import mean_squared_error"
   ]
  },
  {
   "cell_type": "code",
   "execution_count": 18,
   "id": "73fd19af",
   "metadata": {},
   "outputs": [],
   "source": [
    "x_train = np.array(x_train).reshape(-1, 1)\n",
    "y_train = np.array(y_train).reshape(-1, 1)\n",
    "\n",
    "regressor = LinearRegression()\n",
    "regressor.fit(x_train, y_train);"
   ]
  },
  {
   "cell_type": "code",
   "execution_count": 19,
   "id": "456738fe",
   "metadata": {},
   "outputs": [
    {
     "name": "stdout",
     "output_type": "stream",
     "text": [
      "(w,b) found by Scikit-Learn: (  1.1930, -3.8958)\n"
     ]
    }
   ],
   "source": [
    "w, b= regressor.coef_[0][0], regressor.intercept_[0]\n",
    "print(f\"(w,b) found by Scikit-Learn: ({w:8.4f},{b:8.4f})\")"
   ]
  },
  {
   "cell_type": "code",
   "execution_count": 20,
   "id": "682ae5dc",
   "metadata": {},
   "outputs": [
    {
     "name": "stdout",
     "output_type": "stream",
     "text": [
      "Mean squared error: 8.95\n"
     ]
    }
   ],
   "source": [
    "mse = mean_squared_error(y_train, regressor.predict(x_train))\n",
    "print(f'Mean squared error: {mse:.2f}')"
   ]
  },
  {
   "cell_type": "markdown",
   "id": "372eb8b6",
   "metadata": {},
   "source": [
    "### Some Predictions"
   ]
  },
  {
   "cell_type": "code",
   "execution_count": 21,
   "id": "cae03f69",
   "metadata": {
    "scrolled": true
   },
   "outputs": [
    {
     "name": "stdout",
     "output_type": "stream",
     "text": [
      "prediction: [3.39], target value: [17.59]\n",
      "prediction: [2.7], target value: [9.13]\n",
      "prediction: [6.27], target value: [13.66]\n",
      "prediction: [4.46], target value: [11.85]\n",
      "prediction: [3.1], target value: [6.82]\n",
      "prediction: [6.11], target value: [11.89]\n",
      "prediction: [5.02], target value: [4.35]\n",
      "prediction: [6.34], target value: [12.]\n",
      "prediction: [3.84], target value: [6.6]\n",
      "prediction: [2.13], target value: [3.82]\n"
     ]
    }
   ],
   "source": [
    "m = len(x_train)\n",
    "for i in range(10):\n",
    "    print(f\"prediction: {regressor.predict([x_train[i]])[0]}, target value: {y_train[i]}\")"
   ]
  },
  {
   "cell_type": "code",
   "execution_count": null,
   "id": "d45fc75e",
   "metadata": {},
   "outputs": [],
   "source": []
  }
 ],
 "metadata": {
  "kernelspec": {
   "display_name": "Python 3 (ipykernel)",
   "language": "python",
   "name": "python3"
  },
  "language_info": {
   "codemirror_mode": {
    "name": "ipython",
    "version": 3
   },
   "file_extension": ".py",
   "mimetype": "text/x-python",
   "name": "python",
   "nbconvert_exporter": "python",
   "pygments_lexer": "ipython3",
   "version": "3.9.12"
  }
 },
 "nbformat": 4,
 "nbformat_minor": 5
}
